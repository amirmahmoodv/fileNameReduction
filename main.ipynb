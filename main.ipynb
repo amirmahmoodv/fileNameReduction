{
 "cells": [
  {
   "cell_type": "markdown",
   "metadata": {},
   "source": [
    "First we define our folder name path"
   ]
  },
  {
   "cell_type": "code",
   "execution_count": 2,
   "metadata": {},
   "outputs": [],
   "source": [
    "\n",
    "folderName = 'D:\\TestFolder'\n",
    "limitCharacters = 29"
   ]
  },
  {
   "cell_type": "markdown",
   "metadata": {},
   "source": [
    "Importing Required Libraries"
   ]
  },
  {
   "cell_type": "code",
   "execution_count": 1,
   "metadata": {},
   "outputs": [],
   "source": [
    "import os\n",
    "import pandas as pd"
   ]
  },
  {
   "cell_type": "markdown",
   "metadata": {},
   "source": [
    "Now some sample codes which needs to be integrated into the function"
   ]
  },
  {
   "cell_type": "code",
   "execution_count": 3,
   "metadata": {},
   "outputs": [],
   "source": [
    "changelog = []\n",
    "for root, subdirectories, files in os.walk(folderName):\n",
    "\n",
    "    for file in files:\n",
    "        filePath = os.path.join(root, file)\n",
    "        fileExtension = filePath.rsplit('.',1)[1]\n",
    "        fileName = filePath.rsplit('.',1)[0]\n",
    "        if len(root) + len(fileExtension)+3 > limitCharacters:\n",
    "            changelog.append([filePath,filePath,'Skip'])            \n",
    "            next\n",
    "        if len(filePath) > limitCharacters:\n",
    "            newFileName = fileName[: len(fileName) - (len(filePath) - limitCharacters) ] +'.'+fileExtension\n",
    "            newFilePath = os.path.join(root,newFileName)\n",
    "            os.rename(filePath,newFilePath)\n",
    "            changelog.append([newFilePath,filePath,'Modified'])\n",
    "        else:\n",
    "            changelog.append([filePath,filePath,'Same'])\n",
    "\n"
   ]
  },
  {
   "cell_type": "code",
   "execution_count": 4,
   "metadata": {},
   "outputs": [
    {
     "name": "stdout",
     "output_type": "stream",
     "text": [
      "[['D:\\\\TestFolder\\\\Test1dsds\\\\n.txt', 'D:\\\\TestFolder\\\\Test1dsds\\\\n.txt', 'Same'], ['D:\\\\TestFolder\\\\Test2\\\\skdsk.txt', 'D:\\\\TestFolder\\\\Test2\\\\skdsk.txt', 'Same']]\n"
     ]
    }
   ],
   "source": [
    "print(changelog)"
   ]
  },
  {
   "cell_type": "markdown",
   "metadata": {},
   "source": [
    "Now Copy the list into a excel in the root of the Directory"
   ]
  },
  {
   "cell_type": "code",
   "execution_count": 24,
   "metadata": {},
   "outputs": [],
   "source": [
    "\n",
    "df = pd.DataFrame(changelog)\n",
    "number = 1\n",
    "savePath = os.path.join(folderName, ('changelog-V' +str(number)+'.xlsx'))\n",
    "while os.path.exists(savePath): \n",
    "    number = number + 1\n",
    "    savePath = os.path.join(folderName, ('changelog-V' +str(number)+'.xlsx'))\n",
    "    \n",
    "\n",
    "df.to_excel(savePath, sheet_name='Home',index = False, header=['s','ds','dsds'])"
   ]
  },
  {
   "cell_type": "code",
   "execution_count": null,
   "metadata": {},
   "outputs": [],
   "source": []
  }
 ],
 "metadata": {
  "interpreter": {
   "hash": "f3012dcc112238e7cca3e37af6e6fb751edcc3005616c51a6d16440e8217090f"
  },
  "kernelspec": {
   "display_name": "Python 3.10.1 64-bit",
   "language": "python",
   "name": "python3"
  },
  "language_info": {
   "codemirror_mode": {
    "name": "ipython",
    "version": 3
   },
   "file_extension": ".py",
   "mimetype": "text/x-python",
   "name": "python",
   "nbconvert_exporter": "python",
   "pygments_lexer": "ipython3",
   "version": "3.8.5"
  },
  "orig_nbformat": 4
 },
 "nbformat": 4,
 "nbformat_minor": 2
}
